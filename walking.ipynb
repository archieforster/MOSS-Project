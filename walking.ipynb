{
 "cells": [
  {
   "cell_type": "code",
   "execution_count": 13,
   "metadata": {},
   "outputs": [],
   "source": [
    "import numpy as np\n",
    "import pandas as pd\n",
    "import matplotlib.pyplot as plt\n",
    "import seaborn as sns\n",
    "import glob\n",
    "from matplotlib import colors\n",
    "from scipy import stats\n",
    "\n",
    "# --------------- IMPORTING THE DATA --------------- #\n",
    "\n",
    "# Evacuation Data\n",
    "evacdata = pd.read_csv('./output_new_new/walking_dis/gy-evac walking-table.csv', skiprows=6).sort_values(by=['terminate-evac-distance-km', 'ticks']).reset_index(drop=True)\n",
    "# renaming the column to something that isn't cursed\n",
    "evacdata.rename(columns={'[run number]': 'run_number'}, inplace=True)\n",
    "evacdata.rename(columns={'initial-people': 'population'}, inplace=True)\n",
    "evacdata.rename(columns={'max-walking-distance-km': 'walk_dist'}, inplace=True)\n",
    "evacdata.columns = evacdata.columns.str.replace('-', '_')\n",
    "# calculate time in minutes\n",
    "evacdata['time_minutes'] = evacdata['ticks'] * evacdata['tick_time_in_mins']\n",
    "evacdata['warning_interval_time_mins-1'] = (evacdata['warning_interval_time_mins'] / 60) -0.5\n",
    "evacdata['evacuated_perc'] = evacdata['get_no_evacuated'] / evacdata['population'] * 100\n",
    "evacdata['evacuating_perc'] = evacdata['get_no_evacuating'] / evacdata['population'] * 100\n",
    "\n",
    "# Journey Time Data\n",
    "jm_files = glob.glob('./output_new_new/walking_dis/jm*.csv')\n",
    "journey_metrics_list = [pd.read_csv(file) for file in jm_files]\n",
    "# Extract tick number from file names and add as a column to each dataframe\n",
    "for i, file in enumerate(jm_files):\n",
    "    tick_number = int(file.split('/')[-1].split('_')[7][1])\n",
    "    journey_metrics_list[i]['walk_dist'] = tick_number\n",
    "# Concatenate the dataframes\n",
    "journey_metrics = pd.concat(journey_metrics_list, ignore_index=True).sort_values(by=['walk_dist', 'start_tick']).reset_index(drop=True)\n",
    "# calculate time in minutes\n",
    "journey_metrics['start_time_minutes'] = journey_metrics['start_tick'] * 0.3 # 0.3 minutes per tick\n",
    "\n",
    "# calculate normalised journey time\n",
    "journey_metrics['normalised_journey_time'] = journey_metrics['actual_time'] / journey_metrics['ideal_time']\n",
    "\n",
    "# calculate the mean normalised journey time every 30 minutes for each run\n",
    "# Bin the start_tick at intervals of 120 (corresponding to 30 minutes)\n",
    "journey_metrics['start_time_bin'] = pd.cut(journey_metrics['start_time_minutes'], bins=np.arange(-15, journey_metrics['start_tick'].max() + 45, 30))\n",
    "# Calculate the mean normalised journey time for each bin\n",
    "mean_normalised_journey_time_per_bin = journey_metrics.groupby('start_time_bin')['normalised_journey_time'].mean().reset_index()\n",
    "# Calculate the mean normalised journey time for each bin for each run\n",
    "mean_normalised_journey_time_per_bin_per_run = journey_metrics.groupby(['walk_dist', 'start_time_bin'])['normalised_journey_time'].mean().reset_index()"
   ]
  },
  {
   "cell_type": "code",
   "execution_count": 7,
   "metadata": {},
   "outputs": [
    {
     "data": {
      "text/html": [
       "<div>\n",
       "<style scoped>\n",
       "    .dataframe tbody tr th:only-of-type {\n",
       "        vertical-align: middle;\n",
       "    }\n",
       "\n",
       "    .dataframe tbody tr th {\n",
       "        vertical-align: top;\n",
       "    }\n",
       "\n",
       "    .dataframe thead th {\n",
       "        text-align: right;\n",
       "    }\n",
       "</style>\n",
       "<table border=\"1\" class=\"dataframe\">\n",
       "  <thead>\n",
       "    <tr style=\"text-align: right;\">\n",
       "      <th></th>\n",
       "      <th>car_id</th>\n",
       "      <th>passengers</th>\n",
       "      <th>ideal_time</th>\n",
       "      <th>actual_time</th>\n",
       "      <th>start_tick</th>\n",
       "      <th>end_tick</th>\n",
       "      <th>walk_dist</th>\n",
       "      <th>start_time_minutes</th>\n",
       "      <th>normalised_journey_time</th>\n",
       "      <th>start_time_bin</th>\n",
       "    </tr>\n",
       "  </thead>\n",
       "  <tbody>\n",
       "    <tr>\n",
       "      <th>19079</th>\n",
       "      <td>26417</td>\n",
       "      <td>2</td>\n",
       "      <td>0.054615</td>\n",
       "      <td>360.0</td>\n",
       "      <td>1099</td>\n",
       "      <td>1111</td>\n",
       "      <td>5</td>\n",
       "      <td>329.7</td>\n",
       "      <td>6591.646004</td>\n",
       "      <td>(315, 345]</td>\n",
       "    </tr>\n",
       "    <tr>\n",
       "      <th>19080</th>\n",
       "      <td>7133</td>\n",
       "      <td>1</td>\n",
       "      <td>0.053490</td>\n",
       "      <td>420.0</td>\n",
       "      <td>1199</td>\n",
       "      <td>1213</td>\n",
       "      <td>5</td>\n",
       "      <td>359.7</td>\n",
       "      <td>7851.996105</td>\n",
       "      <td>(345, 375]</td>\n",
       "    </tr>\n",
       "    <tr>\n",
       "      <th>19081</th>\n",
       "      <td>12240</td>\n",
       "      <td>2</td>\n",
       "      <td>0.058500</td>\n",
       "      <td>450.0</td>\n",
       "      <td>1199</td>\n",
       "      <td>1214</td>\n",
       "      <td>5</td>\n",
       "      <td>359.7</td>\n",
       "      <td>7692.307692</td>\n",
       "      <td>(345, 375]</td>\n",
       "    </tr>\n",
       "    <tr>\n",
       "      <th>19082</th>\n",
       "      <td>4846</td>\n",
       "      <td>1</td>\n",
       "      <td>0.054615</td>\n",
       "      <td>360.0</td>\n",
       "      <td>1399</td>\n",
       "      <td>1411</td>\n",
       "      <td>5</td>\n",
       "      <td>419.7</td>\n",
       "      <td>6591.646004</td>\n",
       "      <td>(405, 435]</td>\n",
       "    </tr>\n",
       "    <tr>\n",
       "      <th>19083</th>\n",
       "      <td>32701</td>\n",
       "      <td>1</td>\n",
       "      <td>0.053490</td>\n",
       "      <td>360.0</td>\n",
       "      <td>1499</td>\n",
       "      <td>1511</td>\n",
       "      <td>5</td>\n",
       "      <td>449.7</td>\n",
       "      <td>6730.282376</td>\n",
       "      <td>(435, 465]</td>\n",
       "    </tr>\n",
       "  </tbody>\n",
       "</table>\n",
       "</div>"
      ],
      "text/plain": [
       "      car_id passengers  ideal_time  actual_time start_tick end_tick  \\\n",
       "19079  26417          2    0.054615        360.0       1099     1111   \n",
       "19080   7133          1    0.053490        420.0       1199     1213   \n",
       "19081  12240          2    0.058500        450.0       1199     1214   \n",
       "19082   4846          1    0.054615        360.0       1399     1411   \n",
       "19083  32701          1    0.053490        360.0       1499     1511   \n",
       "\n",
       "       walk_dist start_time_minutes  normalised_journey_time start_time_bin  \n",
       "19079          5              329.7              6591.646004     (315, 345]  \n",
       "19080          5              359.7              7851.996105     (345, 375]  \n",
       "19081          5              359.7              7692.307692     (345, 375]  \n",
       "19082          5              419.7              6591.646004     (405, 435]  \n",
       "19083          5              449.7              6730.282376     (435, 465]  "
      ]
     },
     "execution_count": 7,
     "metadata": {},
     "output_type": "execute_result"
    }
   ],
   "source": [
    "journey_metrics.tail()"
   ]
  },
  {
   "cell_type": "code",
   "execution_count": 14,
   "metadata": {},
   "outputs": [
    {
     "data": {
      "text/plain": [
       "array([4, 1, 5, 2, 3, 7, 6, 0])"
      ]
     },
     "execution_count": 14,
     "metadata": {},
     "output_type": "execute_result"
    }
   ],
   "source": [
    "evacdata.walk_dist.unique()"
   ]
  },
  {
   "cell_type": "code",
   "execution_count": 45,
   "metadata": {},
   "outputs": [
    {
     "data": {
      "image/png": "[encoded data removed]",
      "text/plain": [
       "<Figure size 1000x600 with 1 Axes>"
      ]
     },
     "metadata": {},
     "output_type": "display_data"
    }
   ],
   "source": [
    "fig, ax = plt.subplots(figsize=(10, 6))\n",
    "\n",
    "plt.hist(journey_metrics[journey_metrics['walk_dist'] == 0]['normalised_journey_time'],  histtype = 'stepfilled', bins=40, color='b', edgecolor='b', alpha=0.5, density=True, label = 'Walking Disabled (0km)')\n",
    "plt.hist(journey_metrics[journey_metrics['walk_dist'] == 3]['normalised_journey_time'], bins=10, histtype = 'stepfilled',color = 'r',  edgecolor='r', alpha=0.5, density=True, label = 'Walking Enabled (3km)')\n",
    "#plt.xscale('log')\n",
    "plt.xlim(0, 0.6e7)\n",
    "\n",
    "ax.set_xlabel('Normalised Journey Time')\n",
    "ax.set_ylabel('Frequency Density')\n",
    "plt.legend()\n",
    "\n",
    "ax.ticklabel_format(style='scientific', axis='both', scilimits=(0,0))"
   ]
  },
  {
   "cell_type": "code",
   "execution_count": null,
   "metadata": {},
   "outputs": [],
   "source": []
  }
 ],
 "metadata": {
  "kernelspec": {
   "display_name": "base",
   "language": "python",
   "name": "python3"
  },
  "language_info": {
   "codemirror_mode": {
    "name": "ipython",
    "version": 3
   },
   "file_extension": ".py",
   "mimetype": "text/x-python",
   "name": "python",
   "nbconvert_exporter": "python",
   "pygments_lexer": "ipython3",
   "version": "3.7.0"
  }
 },
 "nbformat": 4,
 "nbformat_minor": 2
}
